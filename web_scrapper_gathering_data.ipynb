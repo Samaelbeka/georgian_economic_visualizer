{
  "nbformat": 4,
  "nbformat_minor": 0,
  "metadata": {
    "colab": {
      "provenance": [],
      "authorship_tag": "ABX9TyOQ0om+DVBdTzw+fweaq11U",
      "include_colab_link": true
    },
    "kernelspec": {
      "name": "python3",
      "display_name": "Python 3"
    },
    "language_info": {
      "name": "python"
    }
  },
  "cells": [
    {
      "cell_type": "markdown",
      "metadata": {
        "id": "view-in-github",
        "colab_type": "text"
      },
      "source": [
        "<a href=\"https://colab.research.google.com/github/Samaelbeka/georgian_economic_visualizer/blob/main/web_scrapper_gathering_data.ipynb\" target=\"_parent\"><img src=\"https://colab.research.google.com/assets/colab-badge.svg\" alt=\"Open In Colab\"/></a>"
      ]
    },
    {
      "cell_type": "markdown",
      "source": [
        "Starting with playing with python and  gathering all neccessary data\n"
      ],
      "metadata": {
        "id": "BsiCbV9_CXp1"
      }
    },
    {
      "cell_type": "code",
      "execution_count": null,
      "metadata": {
        "id": "oeOSarx3CSIX"
      },
      "outputs": [],
      "source": [
        "from bs4 import BeautifulSoup\n",
        "import requests\n"
      ]
    },
    {
      "cell_type": "code",
      "source": [
        "import requests\n",
        "\n",
        "# URL of the Excel file\n",
        "file_url = 'https://geostat.ge/media/67606/01_Output.xlsx'\n",
        "\n",
        "# Send a GET request to the file URL\n",
        "response = requests.get(file_url)\n",
        "\n",
        "# Check if the request was successful (status code 200)\n",
        "if response.status_code == 200:\n",
        "    # Save the content of the file locally\n",
        "    with open('01_Output.xlsx', 'wb') as file:\n",
        "        file.write(response.content)\n",
        "    print(\"Excel file downloaded successfully!\")\n",
        "else:\n",
        "    print(f\"Failed to download the file. Status code: {response.status_code}\")"
      ],
      "metadata": {
        "id": "vFEQ6vinChj6"
      },
      "execution_count": null,
      "outputs": []
    }
  ]
}