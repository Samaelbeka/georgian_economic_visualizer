{
  "nbformat": 4,
  "nbformat_minor": 0,
  "metadata": {
    "colab": {
      "provenance": [],
      "toc_visible": true,
      "authorship_tag": "ABX9TyMlZOTDOzeJX0JOT7uikZeu",
      "include_colab_link": true
    },
    "kernelspec": {
      "name": "python3",
      "display_name": "Python 3"
    },
    "language_info": {
      "name": "python"
    }
  },
  "cells": [
    {
      "cell_type": "markdown",
      "metadata": {
        "id": "view-in-github",
        "colab_type": "text"
      },
      "source": [
        "<a href=\"https://colab.research.google.com/github/Samaelbeka/georgian_economic_visualizer/blob/main/web_Scrapper_gathering_data.ipynb\" target=\"_parent\"><img src=\"https://colab.research.google.com/assets/colab-badge.svg\" alt=\"Open In Colab\"/></a>"
      ]
    },
    {
      "cell_type": "markdown",
      "source": [
        "Starting with playing with python and  gathering all neccessary data\n"
      ],
      "metadata": {
        "id": "BsiCbV9_CXp1"
      }
    },
    {
      "cell_type": "code",
      "execution_count": 6,
      "metadata": {
        "colab": {
          "base_uri": "https://localhost:8080/"
        },
        "id": "oeOSarx3CSIX",
        "outputId": "53545c93-8f6e-42a4-8611-cabdd50f8ce2"
      },
      "outputs": [
        {
          "output_type": "stream",
          "name": "stdout",
          "text": [
            "Found the target link: https://geostat.ge/media/67608/03_GDP-at-Current-Prices.xlsx\n"
          ]
        }
      ],
      "source": [
        "from bs4 import BeautifulSoup\n",
        "import requests\n",
        "import re\n",
        "import pandas as pd\n",
        "\n",
        "\n",
        "\n",
        "url='https://www.geostat.ge/en/modules/categories/23/gross-domestic-product-gdp' # Replace with the URL of the page you want to scrape\n",
        "response = requests.get(url)\n",
        "response.raise_for_status()  # Raise an exception for bad status codes (like 404)\n",
        "\n",
        "soup = BeautifulSoup(response.content, \"html.parser\")\n",
        "\n",
        "all_links = soup.find_all('a', href=True)\n",
        "\n",
        "target_link = None\n",
        "for link in all_links:\n",
        "    href = link['href']\n",
        "    if href.endswith('.xls') or href.endswith('.xlsx'):  # Check for file extension\n",
        "        if '03_GDP-at-Current-Prices' in href:  # Check for filename\n",
        "            target_link = href\n",
        "            break\n",
        "\n",
        "if target_link:\n",
        "    print(f\"Found the target link: {target_link}\")\n",
        "else:\n",
        "    print(\"Target link not found on the page.\")\n",
        "\n"
      ]
    },
    {
      "cell_type": "code",
      "source": [
        "\n",
        "\n",
        "# Send a GET request to the file URL\n",
        "response = requests.get(target_link)\n",
        "\n",
        "# Check if the request was successful (status code 200)\n",
        "if response.status_code == 200:\n",
        "    # Save the content of the file locally\n",
        "    with open('01_Output.xlsx', 'wb') as file:\n",
        "        file.write(response.content)\n",
        "    print(\"Excel file downloaded successfully!\")\n",
        "else:\n",
        "    print(f\"Failed to download the file. Status code: {response.status_code}\")"
      ],
      "metadata": {
        "colab": {
          "base_uri": "https://localhost:8080/"
        },
        "id": "tK1Y0vGzPsm9",
        "outputId": "3fb79da7-151f-4d96-a55d-bcbc7158059f"
      },
      "execution_count": 7,
      "outputs": [
        {
          "output_type": "stream",
          "name": "stdout",
          "text": [
            "Excel file downloaded successfully!\n"
          ]
        }
      ]
    },
    {
      "cell_type": "code",
      "source": [
        "# prompt: show me the shape of downloaded file\n",
        "\n",
        "\n",
        "# Load the downloaded Excel file into a pandas DataFrame\n",
        "df = pd.read_excel('01_Output.xlsx',skiprows=1)\n",
        "df=df.drop(df.columns[0], axis=1)\n",
        "df = df.reset_index(drop=True)\n",
        "year_columns = [col for col in df.columns\n",
        "                if re.search(r'\\b(19|20)\\d{2}\\b', str(col)) is not None]\n",
        "df=df.drop(columns=year_columns)\n"
      ],
      "metadata": {
        "id": "akzJkH4EPi9J"
      },
      "execution_count": 13,
      "outputs": []
    },
    {
      "cell_type": "code",
      "source": [
        "\n",
        "\n",
        "# Function to convert bad date format to datetime objects\n",
        "def convert_bad_date(bad_date):\n",
        "    quarter_map = {'I': '03-31', 'II': '06-30', 'III': '09-30', 'IV': '12-31'}\n",
        "\n",
        "    # Extract quarter and year using regex\n",
        "    match = re.search(r'([I,II,III,IV]+)\\s*(\\d+)', bad_date)\n",
        "\n",
        "    if match:\n",
        "        quarter = match.group(1).strip()\n",
        "        year = match.group(2).strip()\n",
        "        year = '20' + year if len(year) == 2 else year\n",
        "        date_str = f\"{year}-{quarter_map[quarter]}\"\n",
        "        return pd.to_datetime(date_str)\n",
        "    else:\n",
        "        return bad_date  # Return original if no match\n",
        "\n",
        "# ... (Rest of your code, using the updated convert_bad_date function) ...\n",
        "\n",
        "\n",
        "\n",
        "\n",
        "v=1\n",
        "for column in df.columns[1:]:\n",
        "  df.columns.values[v] =convert_bad_date(column)\n",
        "  v=v+1\n",
        "\n"
      ],
      "metadata": {
        "id": "FoJ3e7erYOeJ"
      },
      "execution_count": 14,
      "outputs": []
    },
    {
      "cell_type": "code",
      "source": [
        "filtered_df = df[df['Economic Activities'].isin(['GDP per capita in GEL', 'GDP per capita, USD'])]\n",
        "\n",
        "\n",
        "\n",
        "df_long =filtered_df.melt(id_vars=['Economic Activities'], var_name='Date', value_name='value')\n",
        "\n",
        "print(df_long)\n"
      ],
      "metadata": {
        "id": "_Y26EOLqcuNG"
      },
      "execution_count": null,
      "outputs": []
    },
    {
      "cell_type": "code",
      "source": [],
      "metadata": {
        "id": "uvLQ4TX0gDxq"
      },
      "execution_count": null,
      "outputs": []
    },
    {
      "cell_type": "code",
      "source": [],
      "metadata": {
        "colab": {
          "base_uri": "https://localhost:8080/",
          "height": 228
        },
        "id": "ofalL_oPWb5h",
        "outputId": "d8154264-ca2b-42f7-b018-4e03c7b3a8e1"
      },
      "execution_count": 4,
      "outputs": [
        {
          "output_type": "stream",
          "name": "stdout",
          "text": [
            "\n"
          ]
        },
        {
          "output_type": "error",
          "ename": "NameError",
          "evalue": "name 'filtered_df' is not defined",
          "traceback": [
            "\u001b[0;31m---------------------------------------------------------------------------\u001b[0m",
            "\u001b[0;31mNameError\u001b[0m                                 Traceback (most recent call last)",
            "\u001b[0;32m<ipython-input-4-72c49cdedff7>\u001b[0m in \u001b[0;36m<cell line: 0>\u001b[0;34m()\u001b[0m\n\u001b[1;32m      1\u001b[0m \u001b[0mprint\u001b[0m\u001b[0;34m(\u001b[0m\u001b[0;34m)\u001b[0m\u001b[0;34m\u001b[0m\u001b[0;34m\u001b[0m\u001b[0m\n\u001b[0;32m----> 2\u001b[0;31m \u001b[0mtransposed_df\u001b[0m \u001b[0;34m=\u001b[0m \u001b[0mfiltered_df\u001b[0m\u001b[0;34m.\u001b[0m\u001b[0mT\u001b[0m\u001b[0;34m\u001b[0m\u001b[0;34m\u001b[0m\u001b[0m\n\u001b[0m\u001b[1;32m      3\u001b[0m \u001b[0;34m\u001b[0m\u001b[0m\n\u001b[1;32m      4\u001b[0m \u001b[0;34m\u001b[0m\u001b[0m\n\u001b[1;32m      5\u001b[0m \u001b[0;34m\u001b[0m\u001b[0m\n",
            "\u001b[0;31mNameError\u001b[0m: name 'filtered_df' is not defined"
          ]
        }
      ]
    }
  ]
}